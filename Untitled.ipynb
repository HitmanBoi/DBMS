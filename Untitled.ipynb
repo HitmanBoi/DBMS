{
 "cells": [
  {
   "cell_type": "code",
   "execution_count": 8,
   "id": "39b67a8f",
   "metadata": {},
   "outputs": [],
   "source": [
    "import pymongo as mp\n",
    "myclient = mp.MongoClient(\"mongodb://127.0.0.1:27017/\")\n",
    "mydb = myclient[\"mydatabase\"]\n",
    "mycol = mydb[\"customers\"]"
   ]
  },
  {
   "cell_type": "markdown",
   "id": "a8d6473e",
   "metadata": {},
   "source": []
  }
 ],
 "metadata": {
  "kernelspec": {
   "display_name": "Python 3 (ipykernel)",
   "language": "python",
   "name": "python3"
  },
  "language_info": {
   "codemirror_mode": {
    "name": "ipython",
    "version": 3
   },
   "file_extension": ".py",
   "mimetype": "text/x-python",
   "name": "python",
   "nbconvert_exporter": "python",
   "pygments_lexer": "ipython3",
   "version": "3.11.0"
  }
 },
 "nbformat": 4,
 "nbformat_minor": 5
}
